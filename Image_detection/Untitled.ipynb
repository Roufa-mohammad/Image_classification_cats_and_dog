{
 "cells": [
  {
   "cell_type": "markdown",
   "metadata": {},
   "source": [
    "flow chart is different fot (if)\n",
    "flow chart (if,elif)"
   ]
  },
  {
   "cell_type": "code",
   "execution_count": 5,
   "metadata": {},
   "outputs": [
    {
     "name": "stdout",
     "output_type": "stream",
     "text": [
      "enter the x value?10\n",
      "enter the y value?10\n",
      "x is equal to y\n"
     ]
    }
   ],
   "source": [
    "x = int(input(\"enter the x value?\"))\n",
    "y = int(input(\"enter the y value?\"))\n",
    "if x < y:\n",
    "    print('x is less than y ',x)\n",
    "elif x > y:\n",
    "    print(\"x is greater than y \")\n",
    "elif x == y:\n",
    "    print(\"x is equal to y\" )\n",
    "    \n",
    "    "
   ]
  },
  {
   "cell_type": "code",
   "execution_count": 7,
   "metadata": {},
   "outputs": [
    {
     "name": "stdout",
     "output_type": "stream",
     "text": [
      "enter the x value?10\n",
      "enter the y value?20\n",
      "x  is not equal to y\n"
     ]
    }
   ],
   "source": [
    "x = int(input(\"enter the x value?\"))\n",
    "y = int(input(\"enter the y value?\"))\n",
    "if x < y or x >y:\n",
    "    print(\"x  is not equal to y\")\n",
    "else:\n",
    "    print(\"x is equal to y\")"
   ]
  },
  {
   "cell_type": "code",
   "execution_count": null,
   "metadata": {},
   "outputs": [],
   "source": [
    "scyy       = int(input(\"enter the x value?\"))\n",
    "#y = int(input(\"enter the y value?\"))\n"
   ]
  }
 ],
 "metadata": {
  "kernelspec": {
   "display_name": "Python 3 (ipykernel)",
   "language": "python",
   "name": "python3"
  },
  "language_info": {
   "codemirror_mode": {
    "name": "ipython",
    "version": 3
   },
   "file_extension": ".py",
   "mimetype": "text/x-python",
   "name": "python",
   "nbconvert_exporter": "python",
   "pygments_lexer": "ipython3",
   "version": "3.10.4"
  }
 },
 "nbformat": 4,
 "nbformat_minor": 2
}
