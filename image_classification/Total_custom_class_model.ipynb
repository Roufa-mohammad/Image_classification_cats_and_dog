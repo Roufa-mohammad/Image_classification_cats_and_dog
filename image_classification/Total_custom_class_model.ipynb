{
 "cells": [
  {
   "cell_type": "markdown",
   "metadata": {},
   "source": [
    "### Ramdom seed"
   ]
  },
  {
   "cell_type": "code",
   "execution_count": 1,
   "metadata": {
    "id": "fKuLeSblw0UP"
   },
   "outputs": [],
   "source": [
    "import torch\n",
    "import torchvision\n",
    "from PIL import Image\n",
    "\n",
    "import os\n",
    "import random\n",
    "import matplotlib.pyplot as plt\n",
    "\n",
    "import torch.nn as nn\n",
    "from torchvision import datasets,transforms\n",
    "from torch.utils.data import Dataset, DataLoader"
   ]
  },
  {
   "cell_type": "code",
   "execution_count": 2,
   "metadata": {
    "id": "UPXUA8nNxkn8"
   },
   "outputs": [],
   "source": [
    "class Custom_Data_class(Dataset):\n",
    "    def __init__(self, root_path):\n",
    "        self.root_path = root_path\n",
    "        self.transforms = transforms.Compose([\n",
    "                            transforms.Resize((224,224)),\n",
    "                            transforms.RandomHorizontalFlip(),\n",
    "                            transforms.ToTensor(),\n",
    "                             transforms.Normalize([0.485, 0.456, 0.406], [0.229, 0.224, 0.225])\n",
    "                        ])\n",
    "        self.labels = [label for label in os.listdir(self.root_path)]\n",
    "        self.label_folder_path = [os.path.join(self.root_path,label) for label in self.labels]\n",
    "        self.images = [os.path.join(folder,img_name)  for folder in self.label_folder_path for img_name in os.listdir(folder)]\n",
    "        random.shuffle(self.images)\n",
    "        \n",
    "        \n",
    "    def __getitem__(self,index):\n",
    "        image = self.images[index]\n",
    "        label = image.split(\"/\")[-2]\n",
    "\n",
    "        img = Image.open(image).convert(\"RGB\")\n",
    "        # plt.imshow(img)\n",
    "        # plt.show()\n",
    "        \n",
    "        t_img = self.transforms(img)\n",
    "        b_img = torchvision.transforms.ToPILImage()(t_img)\n",
    "        # print(b_img)\n",
    "        # plt.imshow(b_img)\n",
    "        # plt.show()\n",
    "        \n",
    "        label = [i for i,lab in enumerate(self.labels) if lab==label]\n",
    "        return t_img, label\n",
    "        \n",
    "        \n",
    "    def __len__(self):\n",
    "        return len(self.images)        "
   ]
  },
  {
   "cell_type": "code",
   "execution_count": 3,
   "metadata": {
    "id": "wkYnXl_Lxmjo"
   },
   "outputs": [],
   "source": [
    "train_Dataset = Custom_Data_class(\"/home/roufa/Desktop/interview/pytorch/image_classification/hymenoptera_data/train\")\n",
    "val_Dataset = Custom_Data_class(\"/home/roufa/Desktop/interview/pytorch/image_classification/hymenoptera_data/val\")"
   ]
  },
  {
   "cell_type": "code",
   "execution_count": 4,
   "metadata": {
    "id": "ttifaiXXxqzA"
   },
   "outputs": [],
   "source": [
    "train_dataloader = DataLoader(train_Dataset, batch_size=4, shuffle=True)\n",
    "val_dataloader = DataLoader(val_Dataset, batch_size=4, shuffle=True)"
   ]
  },
  {
   "cell_type": "code",
   "execution_count": 6,
   "metadata": {},
   "outputs": [],
   "source": [
    "class Custom_Model(nn.Module):\n",
    "    def __init__(self):\n",
    "        super().__init__()\n",
    "        self.conv1 = nn.Conv2d(3, 6, (5,5))\n",
    "        self.conv2 = nn.Conv2d(6, 16,(5,5))\n",
    "        self.maxpool = nn.MaxPool2d((5,5))\n",
    "        self.conv3 = nn.Conv2d(16, 32,(5,5))\n",
    "        self.maxpool1 = nn.MaxPool2d((3,3))\n",
    "        self.conv4 = nn.Conv2d(32, 64, (5,5))\n",
    "        self.relu = nn.ReLU()\n",
    "        \n",
    "        self.fc1 = nn.Linear(64*9*9, 1024)\n",
    "        self.fc3 = nn.Linear(1024, 256)\n",
    "        self.fc4 = nn.Linear(256,2)\n",
    "            \n",
    "    def forward(self,x):\n",
    "        x = self.conv1(x)\n",
    "        x = self.conv2(x)\n",
    "        x = self.maxpool(x)\n",
    "        x = self.relu(x)\n",
    "        x = self.conv3(x)\n",
    "        x = self.maxpool1(x)\n",
    "        x = self.relu(x)\n",
    "        x = self.conv4(x)\n",
    "#         print(x.shape)\n",
    "        \n",
    "        x = torch.flatten(x,1)\n",
    "        x = self.fc1(x)\n",
    "        x = self.fc3(x)\n",
    "        x = self.fc4(x)\n",
    "        \n",
    "        \n",
    "        return x"
   ]
  },
  {
   "cell_type": "code",
   "execution_count": 7,
   "metadata": {
    "colab": {
     "base_uri": "https://localhost:8080/"
    },
    "id": "oEBExfI8yK8T",
    "outputId": "4c35af2c-96b0-4ec3-8620-e515a2064696"
   },
   "outputs": [
    {
     "data": {
      "text/plain": [
       "Custom_Model(\n",
       "  (conv1): Conv2d(3, 6, kernel_size=(5, 5), stride=(1, 1))\n",
       "  (conv2): Conv2d(6, 16, kernel_size=(5, 5), stride=(1, 1))\n",
       "  (maxpool): MaxPool2d(kernel_size=(5, 5), stride=(5, 5), padding=0, dilation=1, ceil_mode=False)\n",
       "  (conv3): Conv2d(16, 32, kernel_size=(5, 5), stride=(1, 1))\n",
       "  (maxpool1): MaxPool2d(kernel_size=(3, 3), stride=(3, 3), padding=0, dilation=1, ceil_mode=False)\n",
       "  (conv4): Conv2d(32, 64, kernel_size=(5, 5), stride=(1, 1))\n",
       "  (relu): ReLU()\n",
       "  (fc1): Linear(in_features=5184, out_features=1024, bias=True)\n",
       "  (fc3): Linear(in_features=1024, out_features=256, bias=True)\n",
       "  (fc4): Linear(in_features=256, out_features=2, bias=True)\n",
       ")"
      ]
     },
     "execution_count": 7,
     "metadata": {},
     "output_type": "execute_result"
    }
   ],
   "source": [
    "model = Custom_Model()\n",
    "model"
   ]
  },
  {
   "cell_type": "code",
   "execution_count": 8,
   "metadata": {
    "id": "O4-dakgoyOZZ"
   },
   "outputs": [],
   "source": [
    "samp = train_Dataset[2][0].unsqueeze(0)\n",
    "out = model(samp)"
   ]
  },
  {
   "cell_type": "code",
   "execution_count": 51,
   "metadata": {},
   "outputs": [],
   "source": [
    "#from tqdm.auto import tqdm"
   ]
  },
  {
   "cell_type": "code",
   "execution_count": 14,
   "metadata": {
    "colab": {
     "base_uri": "https://localhost:8080/",
     "height": 1000,
     "referenced_widgets": [
      "561f53b19d21495dbb8c830dcd17d92f",
      "318ffa8502bb46e996a5e86e17815a95",
      "8668443a4b804e60b5e059b914f50e1d",
      "5edfb0343d2e4ef597d4e1480c2de530",
      "c2a5b48426954728830a995df8fe5c40",
      "46a72ce508994c69960d181287a21b91",
      "547dea4373ca462290ca59e97edff2e2",
      "8991e892d0ae4147b3850533e7f6214f",
      "5ec688a3e73a4eb780df2965154d2708",
      "964508b5731c466c8b25c2c00c168acf",
      "a602ca41fc4444749478c1f8bcb87d82"
     ]
    },
    "id": "iWY1ebj0ySvf",
    "outputId": "1ab59462-481a-4f78-bae7-e96e1dff6c18"
   },
   "outputs": [],
   "source": [
    "epochs = 20\n",
    "lr = 0.0005\n",
    "\n",
    "# optimizer = torch.optim.Adam(model.parameters(), lr)\n",
    "optimizer = torch.optim.SGD(model.parameters(), lr, momentum= 0.8)\n",
    "criterion = nn.CrossEntropyLoss()\n",
    "device = torch.device('cuda:0' if torch.cuda.is_available() else 'cpu')\n",
    "losses = []\n",
    "\n",
    "model = model.to(device)\n",
    "\n",
    "\n",
    "for epoch in range(epochs):\n",
    "    \n",
    "    for i,data in enumerate(train_dataloader):\n",
    "        inputs,label = data[0].to(device),data[1][0].to(device)\n",
    "        optimizer.zero_grad()\n",
    "        output = model(inputs)\n",
    "        loss = criterion(output,label)\n",
    "        loss.backward()\n",
    "        optimizer.step()\n",
    "        losses.append(loss.item())\n",
    "#         print(loss.item())"
   ]
  },
  {
   "cell_type": "code",
   "execution_count": 15,
   "metadata": {},
   "outputs": [],
   "source": [
    "classes = ['bees', 'ants']\n",
    "correct_pred = {classname: 0 for classname in classes}\n",
    "total_pred = {classname: 0 for classname in classes}"
   ]
  },
  {
   "cell_type": "code",
   "execution_count": 16,
   "metadata": {
    "id": "j58PF6JJ00Zm"
   },
   "outputs": [
    {
     "name": "stdout",
     "output_type": "stream",
     "text": [
      "Accuracy for class: bees  is 41.0 %\n",
      "Accuracy for class: ants  is 71.4 %\n"
     ]
    }
   ],
   "source": [
    "test_losses = []\n",
    "\n",
    "\n",
    "for i,data in enumerate(val_dataloader):\n",
    "    inputs,labels = data[0].to(device),data[1][0].to(device)\n",
    "\n",
    "    output = model(inputs)\n",
    "    _, predictions = torch.max(output, 1)\n",
    "\n",
    "\n",
    "    loss = criterion(output,labels)\n",
    "\n",
    "    for label, prediction in zip(labels, predictions):\n",
    "        if label == prediction:\n",
    "            correct_pred[classes[label]] += 1\n",
    "        total_pred[classes[label]] += 1\n",
    "\n",
    "    test_losses.append(loss.item())\n",
    "        \n",
    "        \n",
    "for classname, correct_count in correct_pred.items():\n",
    "    accuracy = 100 * float(correct_count) / total_pred[classname]\n",
    "    print(f'Accuracy for class: {classname:5s} is {accuracy:.1f} %')            "
   ]
  },
  {
   "cell_type": "code",
   "execution_count": null,
   "metadata": {},
   "outputs": [],
   "source": []
  }
 ],
 "metadata": {
  "accelerator": "GPU",
  "colab": {
   "collapsed_sections": [],
   "provenance": []
  },
  "gpuClass": "standard",
  "kernelspec": {
   "display_name": "Python 3 (ipykernel)",
   "language": "python",
   "name": "python3"
  },
  "language_info": {
   "codemirror_mode": {
    "name": "ipython",
    "version": 3
   },
   "file_extension": ".py",
   "mimetype": "text/x-python",
   "name": "python",
   "nbconvert_exporter": "python",
   "pygments_lexer": "ipython3",
   "version": "3.10.4"
  },
  "widgets": {
   "application/vnd.jupyter.widget-state+json": {
    "318ffa8502bb46e996a5e86e17815a95": {
     "model_module": "@jupyter-widgets/controls",
     "model_module_version": "1.5.0",
     "model_name": "HTMLModel",
     "state": {
      "_dom_classes": [],
      "_model_module": "@jupyter-widgets/controls",
      "_model_module_version": "1.5.0",
      "_model_name": "HTMLModel",
      "_view_count": null,
      "_view_module": "@jupyter-widgets/controls",
      "_view_module_version": "1.5.0",
      "_view_name": "HTMLView",
      "description": "",
      "description_tooltip": null,
      "layout": "IPY_MODEL_46a72ce508994c69960d181287a21b91",
      "placeholder": "​",
      "style": "IPY_MODEL_547dea4373ca462290ca59e97edff2e2",
      "value": ""
     }
    },
    "46a72ce508994c69960d181287a21b91": {
     "model_module": "@jupyter-widgets/base",
     "model_module_version": "1.2.0",
     "model_name": "LayoutModel",
     "state": {
      "_model_module": "@jupyter-widgets/base",
      "_model_module_version": "1.2.0",
      "_model_name": "LayoutModel",
      "_view_count": null,
      "_view_module": "@jupyter-widgets/base",
      "_view_module_version": "1.2.0",
      "_view_name": "LayoutView",
      "align_content": null,
      "align_items": null,
      "align_self": null,
      "border": null,
      "bottom": null,
      "display": null,
      "flex": null,
      "flex_flow": null,
      "grid_area": null,
      "grid_auto_columns": null,
      "grid_auto_flow": null,
      "grid_auto_rows": null,
      "grid_column": null,
      "grid_gap": null,
      "grid_row": null,
      "grid_template_areas": null,
      "grid_template_columns": null,
      "grid_template_rows": null,
      "height": null,
      "justify_content": null,
      "justify_items": null,
      "left": null,
      "margin": null,
      "max_height": null,
      "max_width": null,
      "min_height": null,
      "min_width": null,
      "object_fit": null,
      "object_position": null,
      "order": null,
      "overflow": null,
      "overflow_x": null,
      "overflow_y": null,
      "padding": null,
      "right": null,
      "top": null,
      "visibility": null,
      "width": null
     }
    },
    "547dea4373ca462290ca59e97edff2e2": {
     "model_module": "@jupyter-widgets/controls",
     "model_module_version": "1.5.0",
     "model_name": "DescriptionStyleModel",
     "state": {
      "_model_module": "@jupyter-widgets/controls",
      "_model_module_version": "1.5.0",
      "_model_name": "DescriptionStyleModel",
      "_view_count": null,
      "_view_module": "@jupyter-widgets/base",
      "_view_module_version": "1.2.0",
      "_view_name": "StyleView",
      "description_width": ""
     }
    },
    "561f53b19d21495dbb8c830dcd17d92f": {
     "model_module": "@jupyter-widgets/controls",
     "model_module_version": "1.5.0",
     "model_name": "HBoxModel",
     "state": {
      "_dom_classes": [],
      "_model_module": "@jupyter-widgets/controls",
      "_model_module_version": "1.5.0",
      "_model_name": "HBoxModel",
      "_view_count": null,
      "_view_module": "@jupyter-widgets/controls",
      "_view_module_version": "1.5.0",
      "_view_name": "HBoxView",
      "box_style": "",
      "children": [
       "IPY_MODEL_318ffa8502bb46e996a5e86e17815a95",
       "IPY_MODEL_8668443a4b804e60b5e059b914f50e1d",
       "IPY_MODEL_5edfb0343d2e4ef597d4e1480c2de530"
      ],
      "layout": "IPY_MODEL_c2a5b48426954728830a995df8fe5c40"
     }
    },
    "5ec688a3e73a4eb780df2965154d2708": {
     "model_module": "@jupyter-widgets/controls",
     "model_module_version": "1.5.0",
     "model_name": "ProgressStyleModel",
     "state": {
      "_model_module": "@jupyter-widgets/controls",
      "_model_module_version": "1.5.0",
      "_model_name": "ProgressStyleModel",
      "_view_count": null,
      "_view_module": "@jupyter-widgets/base",
      "_view_module_version": "1.2.0",
      "_view_name": "StyleView",
      "bar_color": null,
      "description_width": ""
     }
    },
    "5edfb0343d2e4ef597d4e1480c2de530": {
     "model_module": "@jupyter-widgets/controls",
     "model_module_version": "1.5.0",
     "model_name": "HTMLModel",
     "state": {
      "_dom_classes": [],
      "_model_module": "@jupyter-widgets/controls",
      "_model_module_version": "1.5.0",
      "_model_name": "HTMLModel",
      "_view_count": null,
      "_view_module": "@jupyter-widgets/controls",
      "_view_module_version": "1.5.0",
      "_view_name": "HTMLView",
      "description": "",
      "description_tooltip": null,
      "layout": "IPY_MODEL_964508b5731c466c8b25c2c00c168acf",
      "placeholder": "​",
      "style": "IPY_MODEL_a602ca41fc4444749478c1f8bcb87d82",
      "value": " 0/? [00:03&lt;?, ?it/s]"
     }
    },
    "8668443a4b804e60b5e059b914f50e1d": {
     "model_module": "@jupyter-widgets/controls",
     "model_module_version": "1.5.0",
     "model_name": "FloatProgressModel",
     "state": {
      "_dom_classes": [],
      "_model_module": "@jupyter-widgets/controls",
      "_model_module_version": "1.5.0",
      "_model_name": "FloatProgressModel",
      "_view_count": null,
      "_view_module": "@jupyter-widgets/controls",
      "_view_module_version": "1.5.0",
      "_view_name": "ProgressView",
      "bar_style": "danger",
      "description": "",
      "description_tooltip": null,
      "layout": "IPY_MODEL_8991e892d0ae4147b3850533e7f6214f",
      "max": 1,
      "min": 0,
      "orientation": "horizontal",
      "style": "IPY_MODEL_5ec688a3e73a4eb780df2965154d2708",
      "value": 0
     }
    },
    "8991e892d0ae4147b3850533e7f6214f": {
     "model_module": "@jupyter-widgets/base",
     "model_module_version": "1.2.0",
     "model_name": "LayoutModel",
     "state": {
      "_model_module": "@jupyter-widgets/base",
      "_model_module_version": "1.2.0",
      "_model_name": "LayoutModel",
      "_view_count": null,
      "_view_module": "@jupyter-widgets/base",
      "_view_module_version": "1.2.0",
      "_view_name": "LayoutView",
      "align_content": null,
      "align_items": null,
      "align_self": null,
      "border": null,
      "bottom": null,
      "display": null,
      "flex": null,
      "flex_flow": null,
      "grid_area": null,
      "grid_auto_columns": null,
      "grid_auto_flow": null,
      "grid_auto_rows": null,
      "grid_column": null,
      "grid_gap": null,
      "grid_row": null,
      "grid_template_areas": null,
      "grid_template_columns": null,
      "grid_template_rows": null,
      "height": null,
      "justify_content": null,
      "justify_items": null,
      "left": null,
      "margin": null,
      "max_height": null,
      "max_width": null,
      "min_height": null,
      "min_width": null,
      "object_fit": null,
      "object_position": null,
      "order": null,
      "overflow": null,
      "overflow_x": null,
      "overflow_y": null,
      "padding": null,
      "right": null,
      "top": null,
      "visibility": null,
      "width": "20px"
     }
    },
    "964508b5731c466c8b25c2c00c168acf": {
     "model_module": "@jupyter-widgets/base",
     "model_module_version": "1.2.0",
     "model_name": "LayoutModel",
     "state": {
      "_model_module": "@jupyter-widgets/base",
      "_model_module_version": "1.2.0",
      "_model_name": "LayoutModel",
      "_view_count": null,
      "_view_module": "@jupyter-widgets/base",
      "_view_module_version": "1.2.0",
      "_view_name": "LayoutView",
      "align_content": null,
      "align_items": null,
      "align_self": null,
      "border": null,
      "bottom": null,
      "display": null,
      "flex": null,
      "flex_flow": null,
      "grid_area": null,
      "grid_auto_columns": null,
      "grid_auto_flow": null,
      "grid_auto_rows": null,
      "grid_column": null,
      "grid_gap": null,
      "grid_row": null,
      "grid_template_areas": null,
      "grid_template_columns": null,
      "grid_template_rows": null,
      "height": null,
      "justify_content": null,
      "justify_items": null,
      "left": null,
      "margin": null,
      "max_height": null,
      "max_width": null,
      "min_height": null,
      "min_width": null,
      "object_fit": null,
      "object_position": null,
      "order": null,
      "overflow": null,
      "overflow_x": null,
      "overflow_y": null,
      "padding": null,
      "right": null,
      "top": null,
      "visibility": null,
      "width": null
     }
    },
    "a602ca41fc4444749478c1f8bcb87d82": {
     "model_module": "@jupyter-widgets/controls",
     "model_module_version": "1.5.0",
     "model_name": "DescriptionStyleModel",
     "state": {
      "_model_module": "@jupyter-widgets/controls",
      "_model_module_version": "1.5.0",
      "_model_name": "DescriptionStyleModel",
      "_view_count": null,
      "_view_module": "@jupyter-widgets/base",
      "_view_module_version": "1.2.0",
      "_view_name": "StyleView",
      "description_width": ""
     }
    },
    "c2a5b48426954728830a995df8fe5c40": {
     "model_module": "@jupyter-widgets/base",
     "model_module_version": "1.2.0",
     "model_name": "LayoutModel",
     "state": {
      "_model_module": "@jupyter-widgets/base",
      "_model_module_version": "1.2.0",
      "_model_name": "LayoutModel",
      "_view_count": null,
      "_view_module": "@jupyter-widgets/base",
      "_view_module_version": "1.2.0",
      "_view_name": "LayoutView",
      "align_content": null,
      "align_items": null,
      "align_self": null,
      "border": null,
      "bottom": null,
      "display": null,
      "flex": null,
      "flex_flow": null,
      "grid_area": null,
      "grid_auto_columns": null,
      "grid_auto_flow": null,
      "grid_auto_rows": null,
      "grid_column": null,
      "grid_gap": null,
      "grid_row": null,
      "grid_template_areas": null,
      "grid_template_columns": null,
      "grid_template_rows": null,
      "height": null,
      "justify_content": null,
      "justify_items": null,
      "left": null,
      "margin": null,
      "max_height": null,
      "max_width": null,
      "min_height": null,
      "min_width": null,
      "object_fit": null,
      "object_position": null,
      "order": null,
      "overflow": null,
      "overflow_x": null,
      "overflow_y": null,
      "padding": null,
      "right": null,
      "top": null,
      "visibility": null,
      "width": null
     }
    }
   }
  }
 },
 "nbformat": 4,
 "nbformat_minor": 1
}
